{
  "nbformat": 4,
  "nbformat_minor": 0,
  "metadata": {
    "colab": {
      "provenance": []
    },
    "kernelspec": {
      "name": "python3",
      "display_name": "Python 3"
    },
    "language_info": {
      "name": "python"
    }
  },
  "cells": [
    {
      "cell_type": "markdown",
      "source": [
        "# **1. Создание Series**\n",
        "### 1.1. Создание Series из списка Python"
      ],
      "metadata": {
        "id": "w0ySRTQBE25I"
      }
    },
    {
      "cell_type": "code",
      "execution_count": 4,
      "metadata": {
        "colab": {
          "base_uri": "https://localhost:8080/"
        },
        "id": "D4B_VqjmrvQj",
        "outputId": "3e76c74f-b687-415f-f0a1-87740636f162"
      },
      "outputs": [
        {
          "output_type": "stream",
          "name": "stdout",
          "text": [
            "0    1\n",
            "1    2\n",
            "2    3\n",
            "3    4\n",
            "4    5\n",
            "dtype: int64 \n",
            " a    1\n",
            "b    2\n",
            "c    3\n",
            "d    4\n",
            "e    5\n",
            "dtype: int64\n"
          ]
        }
      ],
      "source": [
        "import numpy as np\n",
        "import pandas as pd\n",
        "s1 = pd.Series([1,2,3,4,5])\n",
        "s2 = pd.Series([1,2,3,4,5],['a','b','c','d','e'])\n",
        "print(s1,\"\\n\",s2)"
      ]
    },
    {
      "cell_type": "markdown",
      "source": [
        "### 1.2. Создание Series из ndarray массива из NumPy"
      ],
      "metadata": {
        "id": "C3bZVdAfFyr5"
      }
    },
    {
      "cell_type": "code",
      "source": [
        "ndarr = np.array([1,2,3,4,5])\n",
        "type(ndarr)\n",
        "s3 = pd.Series(ndarr,['a','b','c','d','e'])\n",
        "print(s3)"
      ],
      "metadata": {
        "colab": {
          "base_uri": "https://localhost:8080/"
        },
        "id": "O_z5zB95FIZt",
        "outputId": "052f1a96-7239-4f9d-d941-d20ca7a4c94a"
      },
      "execution_count": 7,
      "outputs": [
        {
          "output_type": "stream",
          "name": "stdout",
          "text": [
            "a    1\n",
            "b    2\n",
            "c    3\n",
            "d    4\n",
            "e    5\n",
            "dtype: int64\n"
          ]
        }
      ]
    },
    {
      "cell_type": "markdown",
      "source": [
        "### 1.3. Создание Series из словаря (dict)"
      ],
      "metadata": {
        "id": "IFOgNyanGIgY"
      }
    },
    {
      "cell_type": "code",
      "source": [
        "d = {'a':1,'b':2,'c':3}\n",
        "s4 = pd.Series(d)\n",
        "print(s4)"
      ],
      "metadata": {
        "colab": {
          "base_uri": "https://localhost:8080/"
        },
        "id": "0yaendXIF9k5",
        "outputId": "78116ff7-1b32-4f25-bd3b-9fbdcd221de2"
      },
      "execution_count": 8,
      "outputs": [
        {
          "output_type": "stream",
          "name": "stdout",
          "text": [
            "a    1\n",
            "b    2\n",
            "c    3\n",
            "dtype: int64\n"
          ]
        }
      ]
    },
    {
      "cell_type": "markdown",
      "source": [
        "### 1.4. Создание Series с использованием константы"
      ],
      "metadata": {
        "id": "UEK1EmP0GUpV"
      }
    },
    {
      "cell_type": "code",
      "source": [
        "a = 7\n",
        "s5 = pd.Series(a, ['a','b','c'])\n",
        "print(s5)"
      ],
      "metadata": {
        "colab": {
          "base_uri": "https://localhost:8080/"
        },
        "id": "bsSdXiGPGTt2",
        "outputId": "ee327e41-fa9f-4025-e8ed-bc8d8e1aad29"
      },
      "execution_count": 9,
      "outputs": [
        {
          "output_type": "stream",
          "name": "stdout",
          "text": [
            "a    7\n",
            "b    7\n",
            "c    7\n",
            "dtype: int64\n"
          ]
        }
      ]
    },
    {
      "cell_type": "markdown",
      "source": [
        "# **2. Работа с элементами Series**\n",
        "### 2.1. Позиционная индексация (iloc)"
      ],
      "metadata": {
        "id": "PgeVoFv9Gu3k"
      }
    },
    {
      "cell_type": "code",
      "source": [
        "s = pd.Series([10,20,30,40,50], index=['a','b','c','d','e'])\n",
        "print(s.iloc[0]) # Первый элемент (10)\n",
        "print(s.iloc[2]) # Третий элемент (30)\n",
        "print(s.iloc[-1]) # Последний элемент (50)"
      ],
      "metadata": {
        "colab": {
          "base_uri": "https://localhost:8080/"
        },
        "id": "MPFYIpcKGo8I",
        "outputId": "0c18b4da-e05c-435e-e8cd-861dcb10651c"
      },
      "execution_count": 12,
      "outputs": [
        {
          "output_type": "stream",
          "name": "stdout",
          "text": [
            "10\n",
            "30\n",
            "50\n"
          ]
        }
      ]
    },
    {
      "cell_type": "markdown",
      "source": [
        "### 2.2. Меточная индексация (loc)"
      ],
      "metadata": {
        "id": "8qZqD6J7HR6L"
      }
    },
    {
      "cell_type": "code",
      "source": [
        "s = pd.Series([10,20,30,40,50], index=['a','b','c','d','e'])\n",
        "print(s.loc['a']) # Первый элемент (10)\n",
        "print(s.loc['c']) # Третий элемент (30)\n",
        "print(s.loc['e']) # Последний элемент (50)"
      ],
      "metadata": {
        "colab": {
          "base_uri": "https://localhost:8080/"
        },
        "id": "qq33k_IZHJR-",
        "outputId": "0dbd91a5-008b-498b-e919-86eb710f5d60"
      },
      "execution_count": 13,
      "outputs": [
        {
          "output_type": "stream",
          "name": "stdout",
          "text": [
            "10\n",
            "30\n",
            "50\n"
          ]
        }
      ]
    },
    {
      "cell_type": "markdown",
      "source": [
        "### 2.3. Использование логической индексации для фильтрации данных в Series"
      ],
      "metadata": {
        "id": "MmjEbYlQHkfo"
      }
    },
    {
      "cell_type": "code",
      "source": [
        "s = pd.Series([10,25,8,30,15], index=['a','b','c','d','e'])\n",
        "filtered_s = s[s>10] # Фильтруем значения больше 10\n",
        "print(filtered_s)"
      ],
      "metadata": {
        "colab": {
          "base_uri": "https://localhost:8080/"
        },
        "id": "RQyFcOuUHaFv",
        "outputId": "2edff076-5eba-458f-84e0-64577dfce044"
      },
      "execution_count": 15,
      "outputs": [
        {
          "output_type": "stream",
          "name": "stdout",
          "text": [
            "b    25\n",
            "d    30\n",
            "e    15\n",
            "dtype: int64\n"
          ]
        }
      ]
    },
    {
      "cell_type": "markdown",
      "source": [
        "### 2.4. Создание логического массива"
      ],
      "metadata": {
        "id": "YtGm8ThzIH7l"
      }
    },
    {
      "cell_type": "code",
      "source": [
        "s = pd.Series([10,25,8,30,15], index=['a','b','c','d','e'])\n",
        "print(s>10)"
      ],
      "metadata": {
        "colab": {
          "base_uri": "https://localhost:8080/"
        },
        "id": "D5wfQtd1H71q",
        "outputId": "72578f9a-0455-4a62-9597-96a375e4a734"
      },
      "execution_count": 17,
      "outputs": [
        {
          "output_type": "stream",
          "name": "stdout",
          "text": [
            "a    False\n",
            "b     True\n",
            "c    False\n",
            "d     True\n",
            "e     True\n",
            "dtype: bool\n"
          ]
        }
      ]
    },
    {
      "cell_type": "markdown",
      "source": [
        "### 2.5. Комбинированные условия"
      ],
      "metadata": {
        "id": "SYIdDox-IMr7"
      }
    },
    {
      "cell_type": "code",
      "source": [
        "s = pd.Series([10,25,8,30,15], index=['a','b','c','d','e'])\n",
        "filtered_s = s[(s>=10)&(s<=30)] # Фильтруем значения в диапазоне от 10 до 30\n",
        "print(filtered_s)"
      ],
      "metadata": {
        "colab": {
          "base_uri": "https://localhost:8080/"
        },
        "id": "k7NmiF1yIKVR",
        "outputId": "0353ec59-6623-437c-cc55-b76109aa94a8"
      },
      "execution_count": 18,
      "outputs": [
        {
          "output_type": "stream",
          "name": "stdout",
          "text": [
            "a    10\n",
            "b    25\n",
            "d    30\n",
            "e    15\n",
            "dtype: int64\n"
          ]
        }
      ]
    },
    {
      "cell_type": "markdown",
      "source": [
        "### 2.6. Фильтрация по значению индекса"
      ],
      "metadata": {
        "id": "xtTR2wd8Ic4X"
      }
    },
    {
      "cell_type": "code",
      "source": [
        "s = pd.Series([10,25,8,30,15], index=['a','b','c','d','e'])\n",
        "filtered_s = s[s.index.isin(['b','d'])] # Выбираем только те элементы, у которых индекс 'b' или 'd'\n",
        "print(filtered_s)"
      ],
      "metadata": {
        "colab": {
          "base_uri": "https://localhost:8080/"
        },
        "id": "fWIx5JUdIa_x",
        "outputId": "a675e2c7-30e5-4ab8-b247-0488d2b84942"
      },
      "execution_count": 19,
      "outputs": [
        {
          "output_type": "stream",
          "name": "stdout",
          "text": [
            "b    25\n",
            "d    30\n",
            "dtype: int64\n"
          ]
        }
      ]
    },
    {
      "cell_type": "markdown",
      "source": [
        "### 2.7. Использование логической индексации для работы с пропущенными значениями"
      ],
      "metadata": {
        "id": "qSYyZ4OQIuwe"
      }
    },
    {
      "cell_type": "code",
      "source": [
        "s_with_nan = pd.Series([10,None,8,30,None], index=['a','b','c','d','e'])\n",
        "filtered_s = s_with_nan[s_with_nan.notnull()]\n",
        "print(filtered_s)"
      ],
      "metadata": {
        "colab": {
          "base_uri": "https://localhost:8080/"
        },
        "id": "P9thf2z1It1S",
        "outputId": "cce1f0f4-6927-40d5-95dc-42fe224bb549"
      },
      "execution_count": 20,
      "outputs": [
        {
          "output_type": "stream",
          "name": "stdout",
          "text": [
            "a    10.0\n",
            "c     8.0\n",
            "d    30.0\n",
            "dtype: float64\n"
          ]
        }
      ]
    },
    {
      "cell_type": "markdown",
      "source": [
        "### 2.8. Изменение значений по индексу"
      ],
      "metadata": {
        "id": "zIpmy5l1Jiuq"
      }
    },
    {
      "cell_type": "code",
      "source": [
        "s = pd.Series([10,20,30,40], index=['a','b','c','d'])\n",
        "s.loc['b'] = 25\n",
        "print(s)"
      ],
      "metadata": {
        "colab": {
          "base_uri": "https://localhost:8080/"
        },
        "id": "TKKkMm6QJhXv",
        "outputId": "e126fa74-bb7c-426f-db53-1fe88432bd03"
      },
      "execution_count": 21,
      "outputs": [
        {
          "output_type": "stream",
          "name": "stdout",
          "text": [
            "a    10\n",
            "b    25\n",
            "c    30\n",
            "d    40\n",
            "dtype: int64\n"
          ]
        }
      ]
    },
    {
      "cell_type": "markdown",
      "source": [
        "### 2.9. Изменение значения по позиции"
      ],
      "metadata": {
        "id": "u7Eb_SrYJ5Pj"
      }
    },
    {
      "cell_type": "code",
      "source": [
        "s = pd.Series([10,20,30,40], index=['a','b','c','d'])\n",
        "s.iloc[1] = 50\n",
        "print(s)"
      ],
      "metadata": {
        "colab": {
          "base_uri": "https://localhost:8080/"
        },
        "id": "xz1XTVjkJ2ya",
        "outputId": "dfbac75b-f836-4b62-d3ba-e944b4527bf8"
      },
      "execution_count": 22,
      "outputs": [
        {
          "output_type": "stream",
          "name": "stdout",
          "text": [
            "a    10\n",
            "b    50\n",
            "c    30\n",
            "d    40\n",
            "dtype: int64\n"
          ]
        }
      ]
    },
    {
      "cell_type": "markdown",
      "source": [
        "### 2.10. Изменение значений с помощью логической индексации"
      ],
      "metadata": {
        "id": "hEWQLGTxKPsU"
      }
    },
    {
      "cell_type": "code",
      "source": [
        "s = pd.Series([10,20,30,40], index=['a','b','c','d'])\n",
        "s[s>30] += 10\n",
        "print(s)"
      ],
      "metadata": {
        "colab": {
          "base_uri": "https://localhost:8080/"
        },
        "id": "mkyUBmlnKO1j",
        "outputId": "cbc95547-9e76-4f3e-d00f-c348e44bcfb4"
      },
      "execution_count": 23,
      "outputs": [
        {
          "output_type": "stream",
          "name": "stdout",
          "text": [
            "a    10\n",
            "b    20\n",
            "c    30\n",
            "d    50\n",
            "dtype: int64\n"
          ]
        }
      ]
    },
    {
      "cell_type": "markdown",
      "source": [
        "### 2.11. Изменение нескольких значений по индексам"
      ],
      "metadata": {
        "id": "tYPGdOvZKbyL"
      }
    },
    {
      "cell_type": "code",
      "source": [
        "s = pd.Series([10,20,30,40], index=['a','b','c','d'])\n",
        "s.loc[['a','c']] = [100,200]\n",
        "print(s)"
      ],
      "metadata": {
        "colab": {
          "base_uri": "https://localhost:8080/"
        },
        "id": "LU54INbSKa7B",
        "outputId": "c2a84fca-7b15-455c-9e73-78e7f5f20032"
      },
      "execution_count": 24,
      "outputs": [
        {
          "output_type": "stream",
          "name": "stdout",
          "text": [
            "a    100\n",
            "b     20\n",
            "c    200\n",
            "d     40\n",
            "dtype: int64\n"
          ]
        }
      ]
    },
    {
      "cell_type": "markdown",
      "source": [
        "### 2.12. Измененение значений с помощью метода .appply()"
      ],
      "metadata": {
        "id": "F8dcr1a9Kkm_"
      }
    },
    {
      "cell_type": "code",
      "source": [
        "s = pd.Series([10,20,30,40], index=['a','b','c','d'])\n",
        "s = s.apply(lambda x: x * 2)\n",
        "print(s)"
      ],
      "metadata": {
        "colab": {
          "base_uri": "https://localhost:8080/"
        },
        "id": "1sz-OTKKKjFl",
        "outputId": "046fc47d-a6ee-47f6-872f-88e5f538a5a3"
      },
      "execution_count": 25,
      "outputs": [
        {
          "output_type": "stream",
          "name": "stdout",
          "text": [
            "a    20\n",
            "b    40\n",
            "c    60\n",
            "d    80\n",
            "dtype: int64\n"
          ]
        }
      ]
    },
    {
      "cell_type": "markdown",
      "source": [
        "### 2.13. Заполнение пропущенных значений"
      ],
      "metadata": {
        "id": "dYL7yAjMLCW2"
      }
    },
    {
      "cell_type": "code",
      "source": [
        "s_with_nan = pd.Series([10,None,30,None], index=['a','b','c','d'])\n",
        "s_filled = s_with_nan.fillna(0)\n",
        "print(s_filled)"
      ],
      "metadata": {
        "colab": {
          "base_uri": "https://localhost:8080/"
        },
        "id": "1mSUEOVcKzda",
        "outputId": "c8e82b5e-99ac-4289-aca2-1c58aa636e7b"
      },
      "execution_count": 26,
      "outputs": [
        {
          "output_type": "stream",
          "name": "stdout",
          "text": [
            "a    10.0\n",
            "b     0.0\n",
            "c    30.0\n",
            "d     0.0\n",
            "dtype: float64\n"
          ]
        }
      ]
    },
    {
      "cell_type": "markdown",
      "source": [
        "# **3. Основные методы работы с Series**\n",
        "### 3.1. Метод .head(n) - позволяет получить первые n элементов из объекта Series, если n не указан, по умолчанию возвращаются первые 5 элементов"
      ],
      "metadata": {
        "id": "uTC-ia26LSdN"
      }
    },
    {
      "cell_type": "code",
      "source": [
        "s = pd.Series([10,20,30,40,50,60,70], index=['a','b','c','d','e','f','g'])\n",
        "print(s.head(3))\n",
        "print(s.head())"
      ],
      "metadata": {
        "colab": {
          "base_uri": "https://localhost:8080/"
        },
        "id": "Nx1rnIdYLPSv",
        "outputId": "101532e4-7721-4f7b-f4a2-4f6bce45c239"
      },
      "execution_count": 28,
      "outputs": [
        {
          "output_type": "stream",
          "name": "stdout",
          "text": [
            "a    10\n",
            "b    20\n",
            "c    30\n",
            "dtype: int64\n",
            "a    10\n",
            "b    20\n",
            "c    30\n",
            "d    40\n",
            "e    50\n",
            "dtype: int64\n"
          ]
        }
      ]
    },
    {
      "cell_type": "markdown",
      "source": [
        "### 3.2. Метод .tail(n) - позволяет получить последние n элементов из объекта Series, если n не указан, по умолчанию возвращаются последние 5 элементов"
      ],
      "metadata": {
        "id": "_JmMryEMMAVc"
      }
    },
    {
      "cell_type": "code",
      "source": [
        "s = pd.Series([10,20,30,40,50,60,70], index=['a','b','c','d','e','f','g'])\n",
        "print(s.tail(3))\n",
        "print(s.tail())"
      ],
      "metadata": {
        "colab": {
          "base_uri": "https://localhost:8080/"
        },
        "id": "v-GPoO6BLt9q",
        "outputId": "3db9e1e7-80eb-47a0-a5b8-ab87f4eac30b"
      },
      "execution_count": 29,
      "outputs": [
        {
          "output_type": "stream",
          "name": "stdout",
          "text": [
            "e    50\n",
            "f    60\n",
            "g    70\n",
            "dtype: int64\n",
            "c    30\n",
            "d    40\n",
            "e    50\n",
            "f    60\n",
            "g    70\n",
            "dtype: int64\n"
          ]
        }
      ]
    },
    {
      "cell_type": "markdown",
      "source": [
        "### 3.3. Получение индексов с помощью .index"
      ],
      "metadata": {
        "id": "kVxybLrgMOK3"
      }
    },
    {
      "cell_type": "code",
      "source": [
        "s = pd.Series([10,20,30,40,50], index=['a','b','c','d','e'])\n",
        "print(s.index) # Выводит все индексы\n",
        "print(s.index[0]) # Выводит n-й индекс\n",
        "print('b' in s.index) # Проверяет есть ли указанный индекс в Series\n",
        "print('f' in s.index) # Проверяет есть ли указанный индекс в Series"
      ],
      "metadata": {
        "colab": {
          "base_uri": "https://localhost:8080/"
        },
        "id": "UmByAF-bMNdE",
        "outputId": "ae55e6d0-979a-45af-83c9-e8ea16cef27f"
      },
      "execution_count": 34,
      "outputs": [
        {
          "output_type": "stream",
          "name": "stdout",
          "text": [
            "Index(['a', 'b', 'c', 'd', 'e'], dtype='object')\n",
            "a\n",
            "True\n",
            "False\n"
          ]
        }
      ]
    },
    {
      "cell_type": "markdown",
      "source": [
        "### 3.4. Получение значений с помощью .values"
      ],
      "metadata": {
        "id": "mcIys21DM4g8"
      }
    },
    {
      "cell_type": "code",
      "source": [
        "s = pd.Series([10,20,30,40,50], index=['a','b','c','d','e'])\n",
        "print(s.values) # Все значения\n",
        "print(s.values[0]) # n-ое значение\n",
        "print(s.values.mean()) # Среднее значение"
      ],
      "metadata": {
        "colab": {
          "base_uri": "https://localhost:8080/"
        },
        "id": "G_4605tNMaUx",
        "outputId": "5628b62f-d24e-45b2-9ecc-a333a7d0d2f5"
      },
      "execution_count": 36,
      "outputs": [
        {
          "output_type": "stream",
          "name": "stdout",
          "text": [
            "[10 20 30 40 50]\n",
            "10\n",
            "30.0\n"
          ]
        }
      ]
    },
    {
      "cell_type": "markdown",
      "source": [
        "### 3.5. Проверка типа данных в Series"
      ],
      "metadata": {
        "id": "L4V4JZUBNJSx"
      }
    },
    {
      "cell_type": "code",
      "source": [
        "s = pd.Series([10,20,30,40,50])\n",
        "print(s.dtype)"
      ],
      "metadata": {
        "colab": {
          "base_uri": "https://localhost:8080/"
        },
        "id": "xnjBadb0M-f6",
        "outputId": "c75af57a-2199-42f3-e097-bea14789f9e9"
      },
      "execution_count": 37,
      "outputs": [
        {
          "output_type": "stream",
          "name": "stdout",
          "text": [
            "int64\n"
          ]
        }
      ]
    },
    {
      "cell_type": "markdown",
      "source": [
        "### 3.6. Автоматическое определение типа"
      ],
      "metadata": {
        "id": "XURViXXzNYqT"
      }
    },
    {
      "cell_type": "code",
      "source": [
        "s1 = pd.Series([1.5,2.3,3.7]) # Числа с плавающей запятой\n",
        "s2 = pd.Series(['apple','banana','cherry']) # Строки\n",
        "s3 = pd.Series([True, False, True]) # Булевы значения\n",
        "print(s1.dtype)\n",
        "print(s2.dtype)\n",
        "print(s3.dtype)"
      ],
      "metadata": {
        "colab": {
          "base_uri": "https://localhost:8080/"
        },
        "id": "zbGodQ_FNXry",
        "outputId": "82de41c8-478a-4229-bce0-d850486ed207"
      },
      "execution_count": 40,
      "outputs": [
        {
          "output_type": "stream",
          "name": "stdout",
          "text": [
            "float64\n",
            "object\n",
            "bool\n"
          ]
        }
      ]
    },
    {
      "cell_type": "markdown",
      "source": [
        "### 3.7. Приведение типа с .astype()"
      ],
      "metadata": {
        "id": "iybI1S1yNyLG"
      }
    },
    {
      "cell_type": "code",
      "source": [
        "s1 = pd.Series([1.5,2.3,3.7])\n",
        "s1_int = s1.astype(int)\n",
        "print(s1_int)\n",
        "print(s1_int.dtype)"
      ],
      "metadata": {
        "colab": {
          "base_uri": "https://localhost:8080/"
        },
        "id": "oSZgilIzNvKD",
        "outputId": "d7dd80f4-e76a-4142-f0b8-13f172cf349f"
      },
      "execution_count": 41,
      "outputs": [
        {
          "output_type": "stream",
          "name": "stdout",
          "text": [
            "0    1\n",
            "1    2\n",
            "2    3\n",
            "dtype: int64\n",
            "int64\n"
          ]
        }
      ]
    },
    {
      "cell_type": "markdown",
      "source": [
        "### 3.8. Обнаружение неоднородных типов данных"
      ],
      "metadata": {
        "id": "RRwmNm2fOACm"
      }
    },
    {
      "cell_type": "code",
      "source": [
        "s4 = pd.Series([10,'apple',3.14,True])\n",
        "print(s4.dtype)"
      ],
      "metadata": {
        "colab": {
          "base_uri": "https://localhost:8080/"
        },
        "id": "KIS-jXkwN_E_",
        "outputId": "7ceffc17-c248-4298-f5f4-d7515b6d15fb"
      },
      "execution_count": 42,
      "outputs": [
        {
          "output_type": "stream",
          "name": "stdout",
          "text": [
            "object\n"
          ]
        }
      ]
    },
    {
      "cell_type": "markdown",
      "source": [
        "### 3.9. .isnull() - выявление пропущенных значений"
      ],
      "metadata": {
        "id": "6Wgt8BuSONb3"
      }
    },
    {
      "cell_type": "code",
      "source": [
        "s = pd.Series([10,np.nan,30,None,50])\n",
        "print(s.isnull())"
      ],
      "metadata": {
        "colab": {
          "base_uri": "https://localhost:8080/"
        },
        "id": "4rLbKjAMOIJX",
        "outputId": "7e11abc6-3fae-427a-b321-9d081dac7df9"
      },
      "execution_count": 43,
      "outputs": [
        {
          "output_type": "stream",
          "name": "stdout",
          "text": [
            "0    False\n",
            "1     True\n",
            "2    False\n",
            "3     True\n",
            "4    False\n",
            "dtype: bool\n"
          ]
        }
      ]
    },
    {
      "cell_type": "markdown",
      "source": [
        "### 3.10. .notnull() - проверка на ненулевые значения"
      ],
      "metadata": {
        "id": "XKW46O_PObL9"
      }
    },
    {
      "cell_type": "code",
      "source": [
        "s = pd.Series([10,np.nan,30,None,50])\n",
        "print(s.notnull())"
      ],
      "metadata": {
        "colab": {
          "base_uri": "https://localhost:8080/"
        },
        "id": "pBWQ2NVSOZKf",
        "outputId": "e4931ced-3e8d-42e4-e4a2-061adbebfccf"
      },
      "execution_count": 44,
      "outputs": [
        {
          "output_type": "stream",
          "name": "stdout",
          "text": [
            "0     True\n",
            "1    False\n",
            "2     True\n",
            "3    False\n",
            "4     True\n",
            "dtype: bool\n"
          ]
        }
      ]
    },
    {
      "cell_type": "markdown",
      "source": [
        "### 3.11. Использование логической индексации для фильтрации непустых значений"
      ],
      "metadata": {
        "id": "It0owyiVOkiU"
      }
    },
    {
      "cell_type": "code",
      "source": [
        "# Выбор только непустых значений\n",
        "s = pd.Series([10,np.nan,30,None,50])\n",
        "filtered_s = s[s.notnull()]\n",
        "print(filtered_s)\n",
        "# Выбор только пропущенных значений\n",
        "missing_values = s[s.isnull()]\n",
        "print(\"\\n\")\n",
        "print(missing_values)"
      ],
      "metadata": {
        "colab": {
          "base_uri": "https://localhost:8080/"
        },
        "id": "d1KxOGynOheL",
        "outputId": "963dc138-cf31-4912-d00e-c60595a2fffa"
      },
      "execution_count": 50,
      "outputs": [
        {
          "output_type": "stream",
          "name": "stdout",
          "text": [
            "0    10.0\n",
            "2    30.0\n",
            "4    50.0\n",
            "dtype: float64\n",
            "\n",
            "\n",
            "1   NaN\n",
            "3   NaN\n",
            "dtype: float64\n"
          ]
        }
      ]
    },
    {
      "cell_type": "markdown",
      "source": [
        "### 3.12. .fillna(value) - замена пропущенных значений"
      ],
      "metadata": {
        "id": "Q3KtJefLPCmO"
      }
    },
    {
      "cell_type": "code",
      "source": [
        "s = pd.Series([10, np.nan, 30, None, 50])\n",
        "s_filled = s.fillna(0) # Замена пропущенных значений на 0\n",
        "print(s_filled)"
      ],
      "metadata": {
        "colab": {
          "base_uri": "https://localhost:8080/"
        },
        "id": "13rDAHLhOtPV",
        "outputId": "15d27893-4d96-4ddc-a790-0d02cc8c0a0b"
      },
      "execution_count": 51,
      "outputs": [
        {
          "output_type": "stream",
          "name": "stdout",
          "text": [
            "0    10.0\n",
            "1     0.0\n",
            "2    30.0\n",
            "3     0.0\n",
            "4    50.0\n",
            "dtype: float64\n"
          ]
        }
      ]
    },
    {
      "cell_type": "markdown",
      "source": [
        "### 3.13. Замена пропущенных значений средним, медианой или другим вычисленным значением"
      ],
      "metadata": {
        "id": "fd_QkRAjPSmw"
      }
    },
    {
      "cell_type": "code",
      "source": [
        "# Пример замены на среднее значение (30)\n",
        "s = pd.Series([10, np.nan, 30, None, 50])\n",
        "s_filled = s.fillna(s.mean())\n",
        "print(s_filled)"
      ],
      "metadata": {
        "colab": {
          "base_uri": "https://localhost:8080/"
        },
        "id": "dZormyzFPRnz",
        "outputId": "66961c1a-71f1-4c28-c731-ccb832d061d3"
      },
      "execution_count": 52,
      "outputs": [
        {
          "output_type": "stream",
          "name": "stdout",
          "text": [
            "0    10.0\n",
            "1    30.0\n",
            "2    30.0\n",
            "3    30.0\n",
            "4    50.0\n",
            "dtype: float64\n"
          ]
        }
      ]
    },
    {
      "cell_type": "markdown",
      "source": [
        "### 3.14. .dropna() - удаление пропущенных значений"
      ],
      "metadata": {
        "id": "iPI73JfDPlqs"
      }
    },
    {
      "cell_type": "code",
      "source": [
        "s = pd.Series([10, np.nan, 30, None, 50])\n",
        "s_cleaned = s.dropna()\n",
        "print(s_cleaned)"
      ],
      "metadata": {
        "colab": {
          "base_uri": "https://localhost:8080/"
        },
        "id": "Oit7BMYSPi7b",
        "outputId": "0d0199a5-ec9a-4ad4-f4d3-8c60018f64fb"
      },
      "execution_count": 53,
      "outputs": [
        {
          "output_type": "stream",
          "name": "stdout",
          "text": [
            "0    10.0\n",
            "2    30.0\n",
            "4    50.0\n",
            "dtype: float64\n"
          ]
        }
      ]
    },
    {
      "cell_type": "markdown",
      "source": [
        "# **4. Операции над Series**\n",
        "### 4.1. Арифметические операции с числом"
      ],
      "metadata": {
        "id": "BQxCoQ06Pxyy"
      }
    },
    {
      "cell_type": "code",
      "source": [
        "s = pd.Series([10,20,30,40,50])\n",
        "s_multiplied = s * 2\n",
        "print(s_multiplied)"
      ],
      "metadata": {
        "colab": {
          "base_uri": "https://localhost:8080/"
        },
        "id": "iaeLsfkvPwgM",
        "outputId": "03fc2eb4-4e3f-4682-f477-ae7b506ab77c"
      },
      "execution_count": 54,
      "outputs": [
        {
          "output_type": "stream",
          "name": "stdout",
          "text": [
            "0     20\n",
            "1     40\n",
            "2     60\n",
            "3     80\n",
            "4    100\n",
            "dtype: int64\n"
          ]
        }
      ]
    },
    {
      "cell_type": "markdown",
      "source": [
        "### 4.2. Арифметические операции между двумя Series"
      ],
      "metadata": {
        "id": "T4TlYH4UQbaV"
      }
    },
    {
      "cell_type": "code",
      "source": [
        "s1 = pd.Series([1,2,3,4,5], index=['a','b','c','d','e'])\n",
        "s2 = pd.Series([10,20,30,40,50], index=['a','b','c','d','e'])\n",
        "s_sum = s1+s2\n",
        "print(s_sum)"
      ],
      "metadata": {
        "colab": {
          "base_uri": "https://localhost:8080/"
        },
        "id": "ts9zApAtQZz8",
        "outputId": "89d1affd-ec7f-4d45-c86d-f47ed8cbce57"
      },
      "execution_count": 55,
      "outputs": [
        {
          "output_type": "stream",
          "name": "stdout",
          "text": [
            "a    11\n",
            "b    22\n",
            "c    33\n",
            "d    44\n",
            "e    55\n",
            "dtype: int64\n"
          ]
        }
      ]
    },
    {
      "cell_type": "markdown",
      "source": [
        "### 4.3. Работа с несовпадающими индексами"
      ],
      "metadata": {
        "id": "jyf07OZTQrVy"
      }
    },
    {
      "cell_type": "code",
      "source": [
        "s1 = pd.Series([1,2,3,4,5], index=['a','b','c','d','e'])\n",
        "s3 = pd.Series([100,200,300], index=['a','b','f'])\n",
        "s_result = s1 + s3\n",
        "print(s_result)"
      ],
      "metadata": {
        "colab": {
          "base_uri": "https://localhost:8080/"
        },
        "id": "lYVbMtvhQpg9",
        "outputId": "b4919a13-1e39-4ed0-f54c-86e3476a9da7"
      },
      "execution_count": 58,
      "outputs": [
        {
          "output_type": "stream",
          "name": "stdout",
          "text": [
            "a    101.0\n",
            "b    202.0\n",
            "c      NaN\n",
            "d      NaN\n",
            "e      NaN\n",
            "f      NaN\n",
            "dtype: float64\n"
          ]
        }
      ]
    },
    {
      "cell_type": "markdown",
      "source": [
        "### 4.4. Использование методов .add(), .sub(), .mul(), .div()"
      ],
      "metadata": {
        "id": "oPY-ErIPROkK"
      }
    },
    {
      "cell_type": "code",
      "source": [
        "# Заменяем NaN на 0 при сложении\n",
        "s1 = pd.Series([1,2,3,4,5], index=['a','b','c','d','e'])\n",
        "s_result = s1.add(s3, fill_value=0)\n",
        "print(s_result)\n",
        "# Заменяем NaN на 0 при вычитании\n",
        "s_result = s1.sub(s3, fill_value=0)\n",
        "print(s_result)\n",
        "# Заменяем NaN на 0 при умножении\n",
        "s_result = s1.mul(s3, fill_value=0)\n",
        "print(s_result)\n",
        "# Заменяем NaN на 0 при делении\n",
        "s_result = s1.div(s3, fill_value=0)\n",
        "print(s_result)"
      ],
      "metadata": {
        "colab": {
          "base_uri": "https://localhost:8080/"
        },
        "id": "yqYkczgSRIUC",
        "outputId": "347a1188-d7f6-4f5c-9018-7eaab13b6bd3"
      },
      "execution_count": 69,
      "outputs": [
        {
          "output_type": "stream",
          "name": "stdout",
          "text": [
            "a    101.0\n",
            "b    202.0\n",
            "c      3.0\n",
            "d      4.0\n",
            "e      5.0\n",
            "f    300.0\n",
            "dtype: float64\n",
            "a    -99.0\n",
            "b   -198.0\n",
            "c      3.0\n",
            "d      4.0\n",
            "e      5.0\n",
            "f   -300.0\n",
            "dtype: float64\n",
            "a    100.0\n",
            "b    400.0\n",
            "c      0.0\n",
            "d      0.0\n",
            "e      0.0\n",
            "f      0.0\n",
            "dtype: float64\n",
            "a    0.01\n",
            "b    0.01\n",
            "c     inf\n",
            "d     inf\n",
            "e     inf\n",
            "f    0.00\n",
            "dtype: float64\n"
          ]
        }
      ]
    },
    {
      "cell_type": "markdown",
      "source": [
        "### 4.5. Использование .apply() с анонимной функцией lambda"
      ],
      "metadata": {
        "id": "F-rg2bUESZIb"
      }
    },
    {
      "cell_type": "code",
      "source": [
        "s = pd.Series([1,2,3,4,5])\n",
        "s_squared = s.apply(lambda x: x**2) # Возводим в квадрат каждый элемент\n",
        "print(s_squared)"
      ],
      "metadata": {
        "colab": {
          "base_uri": "https://localhost:8080/"
        },
        "id": "t5mpEh4nRlOW",
        "outputId": "cec86a2c-5e88-4244-f2ca-83ceeadfce2f"
      },
      "execution_count": 73,
      "outputs": [
        {
          "output_type": "stream",
          "name": "stdout",
          "text": [
            "0     1\n",
            "1     4\n",
            "2     9\n",
            "3    16\n",
            "4    25\n",
            "dtype: int64\n"
          ]
        }
      ]
    },
    {
      "cell_type": "markdown",
      "source": [
        "### 4.6. Использование .apply() с обычной функцией"
      ],
      "metadata": {
        "id": "yUhe0S70SugO"
      }
    },
    {
      "cell_type": "code",
      "source": [
        "s = pd.Series([1,2,3,4,5])\n",
        "def custom_function(x): # Функция, преобразующая числа в строки\n",
        "  return f\"Value: {x}\"\n",
        "s_transformed = s.apply(custom_function)\n",
        "print(s_transformed)"
      ],
      "metadata": {
        "colab": {
          "base_uri": "https://localhost:8080/"
        },
        "id": "3EKJOYylSmUI",
        "outputId": "63cd4277-b529-459e-9ba9-b4a58fe94f17"
      },
      "execution_count": 75,
      "outputs": [
        {
          "output_type": "stream",
          "name": "stdout",
          "text": [
            "0    Value: 1\n",
            "1    Value: 2\n",
            "2    Value: 3\n",
            "3    Value: 4\n",
            "4    Value: 5\n",
            "dtype: object\n"
          ]
        }
      ]
    },
    {
      "cell_type": "markdown",
      "source": [
        "### 4.7. Использование .apply() для сложных вычислений"
      ],
      "metadata": {
        "id": "mwtzEpB-TR63"
      }
    },
    {
      "cell_type": "code",
      "source": [
        "s = pd.Series([1,2,3,4,5])\n",
        "s_log = s.apply(np.log) # Применение фунции np.log к каждому элементу\n",
        "print(s_log)"
      ],
      "metadata": {
        "colab": {
          "base_uri": "https://localhost:8080/"
        },
        "id": "IoN8MmEATIR1",
        "outputId": "935fb9f2-9ed8-4574-edce-70583a082c41"
      },
      "execution_count": 77,
      "outputs": [
        {
          "output_type": "stream",
          "name": "stdout",
          "text": [
            "0    0.000000\n",
            "1    0.693147\n",
            "2    1.098612\n",
            "3    1.386294\n",
            "4    1.609438\n",
            "dtype: float64\n"
          ]
        }
      ]
    },
    {
      "cell_type": "markdown",
      "source": [
        "### 4.8. Применение .apply() для работы со строками\n"
      ],
      "metadata": {
        "id": "6aLhizQdTeEL"
      }
    },
    {
      "cell_type": "code",
      "source": [
        "s_text = pd.Series(['apple','banana','cherry'])\n",
        "# Преобразуем текст в верхний регистр\n",
        "s_upper = s_text.apply(str.upper)\n",
        "print(s_upper)"
      ],
      "metadata": {
        "colab": {
          "base_uri": "https://localhost:8080/"
        },
        "id": "LsTqMBosTZ3G",
        "outputId": "062e1aff-35e0-46ee-c410-36cc3899a566"
      },
      "execution_count": 78,
      "outputs": [
        {
          "output_type": "stream",
          "name": "stdout",
          "text": [
            "0     APPLE\n",
            "1    BANANA\n",
            "2    CHERRY\n",
            "dtype: object\n"
          ]
        }
      ]
    },
    {
      "cell_type": "markdown",
      "source": [
        "### 4.9. Сумма элементов .sum()"
      ],
      "metadata": {
        "id": "I4uqHAjWV4Pa"
      }
    },
    {
      "cell_type": "code",
      "source": [
        "s = pd.Series([1,3,4,5,6,7,8,9,10])\n",
        "print(s.sum())"
      ],
      "metadata": {
        "colab": {
          "base_uri": "https://localhost:8080/"
        },
        "id": "jQk-xJ6yV1Q4",
        "outputId": "f3fbf544-8732-49ab-f289-4a7173be2823"
      },
      "execution_count": 79,
      "outputs": [
        {
          "output_type": "stream",
          "name": "stdout",
          "text": [
            "53\n"
          ]
        }
      ]
    },
    {
      "cell_type": "markdown",
      "source": [
        "### 4.10. Среднее значение .mean()"
      ],
      "metadata": {
        "id": "EP8TrAX9XPSd"
      }
    },
    {
      "cell_type": "code",
      "source": [
        "s = pd.Series([1,3,4,5,6,7,8,9,10])\n",
        "print(s.mean())"
      ],
      "metadata": {
        "colab": {
          "base_uri": "https://localhost:8080/"
        },
        "id": "f7piNHG8XNZr",
        "outputId": "a14e016d-a474-40b7-e1eb-711b70a63762"
      },
      "execution_count": 80,
      "outputs": [
        {
          "output_type": "stream",
          "name": "stdout",
          "text": [
            "5.888888888888889\n"
          ]
        }
      ]
    },
    {
      "cell_type": "markdown",
      "source": [
        "### 4.11. Минимум и максимум .min() и .max()"
      ],
      "metadata": {
        "id": "XvHsTwD3XYOJ"
      }
    },
    {
      "cell_type": "code",
      "source": [
        "s = pd.Series([1,3,4,5,6,7,8,9,10])\n",
        "print(\"max:\",s.max(),\"\\nmin:\",s.min())"
      ],
      "metadata": {
        "colab": {
          "base_uri": "https://localhost:8080/"
        },
        "id": "Y1GZ5j4KXUj_",
        "outputId": "daaee46f-3492-4f63-e1f0-e98cdf1b58d6"
      },
      "execution_count": 85,
      "outputs": [
        {
          "output_type": "stream",
          "name": "stdout",
          "text": [
            "max: 10 \n",
            "min: 1\n"
          ]
        }
      ]
    },
    {
      "cell_type": "markdown",
      "source": [
        "### 4.12. Описание данные .describe()"
      ],
      "metadata": {
        "id": "pzqd2qB8XqHM"
      }
    },
    {
      "cell_type": "code",
      "source": [
        "s = pd.Series([1,3,4,5,6,7,8,9,10])\n",
        "print(s.describe())"
      ],
      "metadata": {
        "colab": {
          "base_uri": "https://localhost:8080/"
        },
        "id": "7cF_QyuBXf76",
        "outputId": "5d034e25-23ac-4596-a181-e915c749dc51"
      },
      "execution_count": 86,
      "outputs": [
        {
          "output_type": "stream",
          "name": "stdout",
          "text": [
            "count     9.000000\n",
            "mean      5.888889\n",
            "std       2.934469\n",
            "min       1.000000\n",
            "25%       4.000000\n",
            "50%       6.000000\n",
            "75%       8.000000\n",
            "max      10.000000\n",
            "dtype: float64\n"
          ]
        }
      ]
    },
    {
      "cell_type": "markdown",
      "source": [
        "# **5. Совместимость с NumPy**\n",
        "### 5.1. Логарифм np.log(s)"
      ],
      "metadata": {
        "id": "ljnE04BgXxcm"
      }
    },
    {
      "cell_type": "code",
      "source": [
        "s = pd.Series([1,2,3,4,5])\n",
        "s_log = np.log(s)\n",
        "print(s_log)"
      ],
      "metadata": {
        "colab": {
          "base_uri": "https://localhost:8080/"
        },
        "id": "RCKK_0f4XvZi",
        "outputId": "64b52301-daf6-414a-fd09-a7fed4d575ea"
      },
      "execution_count": 87,
      "outputs": [
        {
          "output_type": "stream",
          "name": "stdout",
          "text": [
            "0    0.000000\n",
            "1    0.693147\n",
            "2    1.098612\n",
            "3    1.386294\n",
            "4    1.609438\n",
            "dtype: float64\n"
          ]
        }
      ]
    },
    {
      "cell_type": "markdown",
      "source": [
        "### 5.2. Экспонента np.exp(s)"
      ],
      "metadata": {
        "id": "FkzgDqp_YCi8"
      }
    },
    {
      "cell_type": "code",
      "source": [
        "s = pd.Series([1,2,3,4,5])\n",
        "s_exp = np.exp(s)\n",
        "print(s_exp)"
      ],
      "metadata": {
        "colab": {
          "base_uri": "https://localhost:8080/"
        },
        "id": "-iRjSGPNYBuV",
        "outputId": "b4bab5b3-c3ab-4340-9759-2812831a51f6"
      },
      "execution_count": 88,
      "outputs": [
        {
          "output_type": "stream",
          "name": "stdout",
          "text": [
            "0      2.718282\n",
            "1      7.389056\n",
            "2     20.085537\n",
            "3     54.598150\n",
            "4    148.413159\n",
            "dtype: float64\n"
          ]
        }
      ]
    },
    {
      "cell_type": "markdown",
      "source": [
        "### 5.3. Квадратный корень np.sqrt(s)"
      ],
      "metadata": {
        "id": "vHGG3HqYYMoP"
      }
    },
    {
      "cell_type": "code",
      "source": [
        "s = pd.Series([1,2,3,4,5])\n",
        "s_sqrt = np.sqrt(s)\n",
        "print(s_sqrt)"
      ],
      "metadata": {
        "colab": {
          "base_uri": "https://localhost:8080/"
        },
        "id": "Wp6emHtLYP5w",
        "outputId": "94bda3ec-dd1d-43e7-a543-5dc8e7ce9542"
      },
      "execution_count": 89,
      "outputs": [
        {
          "output_type": "stream",
          "name": "stdout",
          "text": [
            "0    1.000000\n",
            "1    1.414214\n",
            "2    1.732051\n",
            "3    2.000000\n",
            "4    2.236068\n",
            "dtype: float64\n"
          ]
        }
      ]
    },
    {
      "cell_type": "markdown",
      "source": [
        "### 5.4. Применение других NumPy-функций"
      ],
      "metadata": {
        "id": "byiO1ydjYXSG"
      }
    },
    {
      "cell_type": "code",
      "source": [
        "s = pd.Series([1,2,3,4,5])\n",
        "print(np.sin(s))\n",
        "print(np.cos(s))"
      ],
      "metadata": {
        "colab": {
          "base_uri": "https://localhost:8080/"
        },
        "id": "NGzc63NzYfb_",
        "outputId": "2914bd6b-b790-46cd-b00e-97dab6acb838"
      },
      "execution_count": 91,
      "outputs": [
        {
          "output_type": "stream",
          "name": "stdout",
          "text": [
            "0    0.841471\n",
            "1    0.909297\n",
            "2    0.141120\n",
            "3   -0.756802\n",
            "4   -0.958924\n",
            "dtype: float64\n",
            "0    0.540302\n",
            "1   -0.416147\n",
            "2   -0.989992\n",
            "3   -0.653644\n",
            "4    0.283662\n",
            "dtype: float64\n"
          ]
        }
      ]
    },
    {
      "cell_type": "markdown",
      "source": [
        "# **6. Работа с индексами**\n",
        "### 6.1. Изменение индексов с помощью .set_index()"
      ],
      "metadata": {
        "id": "IWzUAToKYoCJ"
      }
    },
    {
      "cell_type": "code",
      "source": [
        "s = pd.Series([10,20,30,40], index=['a','b','c','d'])\n",
        "s.index = ['x','y','z','w']\n",
        "print(s)"
      ],
      "metadata": {
        "colab": {
          "base_uri": "https://localhost:8080/"
        },
        "id": "TCdNcaJEYl8b",
        "outputId": "8e1107cc-2a0e-4751-dcdb-b01b7900afb4"
      },
      "execution_count": 92,
      "outputs": [
        {
          "output_type": "stream",
          "name": "stdout",
          "text": [
            "x    10\n",
            "y    20\n",
            "z    30\n",
            "w    40\n",
            "dtype: int64\n"
          ]
        }
      ]
    },
    {
      "cell_type": "markdown",
      "source": [
        "### 6.2. Сброс индексов с помощью .reset_index()"
      ],
      "metadata": {
        "id": "SNTnRQNYZHvE"
      }
    },
    {
      "cell_type": "code",
      "source": [
        "s = pd.Series([10,20,30,40], index=['a','b','c','d'])\n",
        "print(s,\"\\n\")\n",
        "s_reset = s.reset_index()\n",
        "print(s_reset)"
      ],
      "metadata": {
        "colab": {
          "base_uri": "https://localhost:8080/"
        },
        "id": "cfd4gVCRZGX6",
        "outputId": "2b3caedf-2b61-47bb-c626-fddedd8bb9be"
      },
      "execution_count": 96,
      "outputs": [
        {
          "output_type": "stream",
          "name": "stdout",
          "text": [
            "a    10\n",
            "b    20\n",
            "c    30\n",
            "d    40\n",
            "dtype: int64 \n",
            "\n",
            "  index   0\n",
            "0     a  10\n",
            "1     b  20\n",
            "2     c  30\n",
            "3     d  40\n"
          ]
        }
      ]
    },
    {
      "cell_type": "markdown",
      "source": [
        "### 6.3. Проверка уникальности индексов Series"
      ],
      "metadata": {
        "id": "5yjG8u94Zge6"
      }
    },
    {
      "cell_type": "code",
      "source": [
        "s_unique = pd.Series([10,20,30], index=['a','b','c']) # Повторяющиеся индексы отсутствуют\n",
        "print(s_unique.index.is_unique)\n",
        "s_d = pd.Series([10,20,30], index=['a','b','a']) # Повторяющиеся индексы присутствуют\n",
        "print(s_d.index.is_unique)"
      ],
      "metadata": {
        "colab": {
          "base_uri": "https://localhost:8080/"
        },
        "id": "QbBbl7s3ZVO3",
        "outputId": "918ba952-ad9f-42b0-cea4-0b749748bd07"
      },
      "execution_count": 100,
      "outputs": [
        {
          "output_type": "stream",
          "name": "stdout",
          "text": [
            "True\n",
            "False\n"
          ]
        }
      ]
    },
    {
      "cell_type": "markdown",
      "source": [
        "### 6.4. Доступ к элементам при повторяющихся индексах"
      ],
      "metadata": {
        "id": "s219sNBNaNr8"
      }
    },
    {
      "cell_type": "code",
      "source": [
        "s_d = pd.Series([10,20,30], index=['a','b','a'])\n",
        "print(s_d.loc['a'])"
      ],
      "metadata": {
        "colab": {
          "base_uri": "https://localhost:8080/"
        },
        "id": "KavjbhOeZvpa",
        "outputId": "a65a41ec-28e2-4267-a80d-c31e3ee9a715"
      },
      "execution_count": 101,
      "outputs": [
        {
          "output_type": "stream",
          "name": "stdout",
          "text": [
            "a    10\n",
            "a    30\n",
            "dtype: int64\n"
          ]
        }
      ]
    },
    {
      "cell_type": "markdown",
      "source": [
        "### 6.5. Обработка неуникальных индексов"
      ],
      "metadata": {
        "id": "bWpPl5sRaawC"
      }
    },
    {
      "cell_type": "code",
      "source": [
        "# Сброс индекса и создание числового индекса\n",
        "s_d = pd.Series([10,20,30], index=['a','b','a'])\n",
        "s_reset = s_d.reset_index(drop=True)\n",
        "print(s_reset)\n",
        "# Преобразование индекса в уникальный, добавив суффиксы\n",
        "s_d.index = [f'{i}_{n}' for n, i in enumerate(s_d.index)]\n",
        "print(s_d)"
      ],
      "metadata": {
        "colab": {
          "base_uri": "https://localhost:8080/"
        },
        "id": "hWul9DqRaXwA",
        "outputId": "bf396a90-b348-49ca-d0a2-a0c3e03dccb0"
      },
      "execution_count": 103,
      "outputs": [
        {
          "output_type": "stream",
          "name": "stdout",
          "text": [
            "0    10\n",
            "1    20\n",
            "2    30\n",
            "dtype: int64\n",
            "a_0    10\n",
            "b_1    20\n",
            "a_2    30\n",
            "dtype: int64\n"
          ]
        }
      ]
    },
    {
      "cell_type": "markdown",
      "source": [
        "# **7. Сортировка данных в Series**\n",
        "### 7.1. Сортировка по индексу с .sort_index()"
      ],
      "metadata": {
        "id": "iRGNNbElbBlE"
      }
    },
    {
      "cell_type": "code",
      "source": [
        "s = pd.Series([10,20,30,40], index=['d','b','a','c'])\n",
        "s_sorted = s.sort_index()\n",
        "print(s_sorted)\n",
        "# По умолчанию индексы сортируются в порядке возрастания, для\n",
        "# сортировки в порядке убывания: sort_index(ascending=False)"
      ],
      "metadata": {
        "colab": {
          "base_uri": "https://localhost:8080/"
        },
        "id": "qcygdPrRapQW",
        "outputId": "6d614cc7-8f88-4e4f-b160-1604f04110af"
      },
      "execution_count": 105,
      "outputs": [
        {
          "output_type": "stream",
          "name": "stdout",
          "text": [
            "a    30\n",
            "b    20\n",
            "c    40\n",
            "d    10\n",
            "dtype: int64\n"
          ]
        }
      ]
    },
    {
      "cell_type": "markdown",
      "source": [
        "### 7.2. Сортировка по значениям с .sort_values()"
      ],
      "metadata": {
        "id": "l6rgbzFZbsmN"
      }
    },
    {
      "cell_type": "code",
      "source": [
        "s = pd.Series([10,20,30,40], index=['d','b','a','c'])\n",
        "s_sorted_values = s.sort_values()\n",
        "print(s_sorted_values)\n",
        "# Для сортировки в порядке убывания: sort_values(ascending=False)"
      ],
      "metadata": {
        "colab": {
          "base_uri": "https://localhost:8080/"
        },
        "id": "lTFXTHKJbcEg",
        "outputId": "afd4dcf2-5771-43ec-e351-947570fddd01"
      },
      "execution_count": 107,
      "outputs": [
        {
          "output_type": "stream",
          "name": "stdout",
          "text": [
            "d    10\n",
            "b    20\n",
            "a    30\n",
            "c    40\n",
            "dtype: int64\n"
          ]
        }
      ]
    },
    {
      "cell_type": "markdown",
      "source": [
        "# **8. Применение Series для представления временных рядов**\n",
        "### 8.1. Создание временного ряда в Series"
      ],
      "metadata": {
        "id": "SvjQXqbRcFEW"
      }
    },
    {
      "cell_type": "code",
      "source": [
        "dates = pd.date_range(start='2024-03-01', periods=5, freq='D')\n",
        "s = pd.Series([100,105,102,98,110], index=dates)\n",
        "print(s)"
      ],
      "metadata": {
        "colab": {
          "base_uri": "https://localhost:8080/"
        },
        "id": "M-kVpmogb3ql",
        "outputId": "41613f4a-7381-4e3c-a390-8921ac9a8948"
      },
      "execution_count": 108,
      "outputs": [
        {
          "output_type": "stream",
          "name": "stdout",
          "text": [
            "2024-03-01    100\n",
            "2024-03-02    105\n",
            "2024-03-03    102\n",
            "2024-03-04     98\n",
            "2024-03-05    110\n",
            "Freq: D, dtype: int64\n"
          ]
        }
      ]
    },
    {
      "cell_type": "markdown",
      "source": [
        "### 8.2. Доступ к данным по дате"
      ],
      "metadata": {
        "id": "FgOqvtjPceMx"
      }
    },
    {
      "cell_type": "code",
      "source": [
        "print(s['2024-03-03'])\n",
        "print(\"\\n\",s['2024-03-02':'2024-03-04']) # Фильтрация по диапазону дат"
      ],
      "metadata": {
        "colab": {
          "base_uri": "https://localhost:8080/"
        },
        "id": "kZnObgIlcbWw",
        "outputId": "02bd1518-b39b-4920-9245-387c8967680d"
      },
      "execution_count": 111,
      "outputs": [
        {
          "output_type": "stream",
          "name": "stdout",
          "text": [
            "102\n",
            "\n",
            " 2024-03-02    105\n",
            "2024-03-03    102\n",
            "2024-03-04     98\n",
            "Freq: D, dtype: int64\n"
          ]
        }
      ]
    },
    {
      "cell_type": "markdown",
      "source": [
        "### 8.3. Создание временного ряда с разной частотой"
      ],
      "metadata": {
        "id": "KHukDaCHc6XX"
      }
    },
    {
      "cell_type": "code",
      "source": [
        "# Создание временного ряда с интервалом в 1 час\n",
        "dates = pd.date_range(start='2024-03-01', periods=5, freq='H')\n",
        "s = pd.Series([10,15,12,8,20], index=dates)\n",
        "print(s)"
      ],
      "metadata": {
        "colab": {
          "base_uri": "https://localhost:8080/"
        },
        "id": "MiKWI2ZIcjSE",
        "outputId": "b080a17e-a044-4fea-da62-23002f78eeca"
      },
      "execution_count": 113,
      "outputs": [
        {
          "output_type": "stream",
          "name": "stdout",
          "text": [
            "2024-03-01 00:00:00    10\n",
            "2024-03-01 01:00:00    15\n",
            "2024-03-01 02:00:00    12\n",
            "2024-03-01 03:00:00     8\n",
            "2024-03-01 04:00:00    20\n",
            "Freq: h, dtype: int64\n"
          ]
        },
        {
          "output_type": "stream",
          "name": "stderr",
          "text": [
            "<ipython-input-113-69c16dc7821a>:2: FutureWarning: 'H' is deprecated and will be removed in a future version, please use 'h' instead.\n",
            "  dates = pd.date_range(start='2024-03-01', periods=5, freq='H')\n"
          ]
        }
      ]
    },
    {
      "cell_type": "markdown",
      "source": [
        "### 8.4. Перевод индекса в формат Datetime"
      ],
      "metadata": {
        "id": "qvFZzC9CdLtO"
      }
    },
    {
      "cell_type": "code",
      "source": [
        "s = pd.Series([100,200,150], index=['2024-03-01','2024-03-02','2024-03-03'])\n",
        "s_index = pd.to_datetime(s.index)\n",
        "print(s)"
      ],
      "metadata": {
        "colab": {
          "base_uri": "https://localhost:8080/"
        },
        "id": "eCBLT9jHdCZI",
        "outputId": "c1aca924-05fe-4d45-e9fb-31e42e02a742"
      },
      "execution_count": 118,
      "outputs": [
        {
          "output_type": "stream",
          "name": "stdout",
          "text": [
            "2024-03-01    100\n",
            "2024-03-02    200\n",
            "2024-03-03    150\n",
            "dtype: int64\n"
          ]
        }
      ]
    },
    {
      "cell_type": "markdown",
      "source": [
        "### 8.5. Расчет скользящего среднего"
      ],
      "metadata": {
        "id": "rs8xYCqEd99R"
      }
    },
    {
      "cell_type": "code",
      "source": [
        "s = pd.Series([10,20,30,40,50,60,70], index=pd.date_range('2024-03-01', periods=7,freq=\"D\"))\n",
        "s_ma = s.rolling(window=3).mean()\n",
        "print(s_ma)\n",
        "# Первые два значения NaN, потому что окно (window=3) не содержит достаточно элементов для вычисления среднего"
      ],
      "metadata": {
        "colab": {
          "base_uri": "https://localhost:8080/"
        },
        "id": "c0EsZio1dcBt",
        "outputId": "fb11305a-d098-4d84-d3e2-dd6e76b8b600"
      },
      "execution_count": 136,
      "outputs": [
        {
          "output_type": "stream",
          "name": "stdout",
          "text": [
            "2024-03-01     NaN\n",
            "2024-03-02     NaN\n",
            "2024-03-03    20.0\n",
            "2024-03-04    30.0\n",
            "2024-03-05    40.0\n",
            "2024-03-06    50.0\n",
            "2024-03-07    60.0\n",
            "Freq: D, dtype: float64\n"
          ]
        }
      ]
    },
    {
      "cell_type": "markdown",
      "source": [
        "### 8.6. Скользящее среднее с минимальным количеством значений"
      ],
      "metadata": {
        "id": "0gr79QXogkAx"
      }
    },
    {
      "cell_type": "code",
      "source": [
        "s_ma2 = s.rolling(window=3, min_periods=1).mean()\n",
        "print(s_ma2)\n",
        "# Теперь даже первые элементы  получают усредненные значения"
      ],
      "metadata": {
        "colab": {
          "base_uri": "https://localhost:8080/"
        },
        "id": "lsVE1kpbeKYt",
        "outputId": "be4b2b9c-2b65-48da-f7d2-08472d842c7a"
      },
      "execution_count": 140,
      "outputs": [
        {
          "output_type": "stream",
          "name": "stdout",
          "text": [
            "2024-03-01    10.0\n",
            "2024-03-02    15.0\n",
            "2024-03-03    20.0\n",
            "2024-03-04    30.0\n",
            "2024-03-05    40.0\n",
            "2024-03-06    50.0\n",
            "2024-03-07    60.0\n",
            "Freq: D, dtype: float64\n"
          ]
        }
      ]
    },
    {
      "cell_type": "markdown",
      "source": [
        "### 8.7. Построение графика скользящего среднего"
      ],
      "metadata": {
        "id": "mmcDd1Dcg3pV"
      }
    },
    {
      "cell_type": "code",
      "source": [
        "import matplotlib.pyplot as plt\n",
        "plt.figure(figsize=(8,4))\n",
        "plt.plot(s, label=\"Исходные данные\", marker='o')\n",
        "plt.plot(s.rolling(window=3).mean(), label=\"Скользящее среднее (3)\", linestyle='--', color='red')\n",
        "plt.xlabel('Дата')\n",
        "plt.ylabel('Значение')\n",
        "plt.title('Скользящее среднее в Series')\n",
        "plt.legend()\n",
        "plt.grid()\n",
        "plt.show()"
      ],
      "metadata": {
        "colab": {
          "base_uri": "https://localhost:8080/",
          "height": 410
        },
        "id": "rwRB47P8guKd",
        "outputId": "bc3d0399-e288-4847-e5bb-852b03d4360c"
      },
      "execution_count": 141,
      "outputs": [
        {
          "output_type": "display_data",
          "data": {
            "text/plain": [
              "<Figure size 800x400 with 1 Axes>"
            ],
            "image/png": "[encoded data removed]"
          },
          "metadata": {}
        }
      ]
    },
    {
      "cell_type": "markdown",
      "source": [
        "### 8.8. Процентный прирост. Метод .pct_change()\n"
      ],
      "metadata": {
        "id": "gVb2w18qhldM"
      }
    },
    {
      "cell_type": "code",
      "source": [
        "s = pd.Series([100,110,120,90,150])\n",
        "print(s.pct_change())\n",
        "# Каждое значение показывает, насколько процентно изменился текущие элемент относительно предыдущего\n",
        "# По умолчанию .ptc_change() возвращает долю изменения (0.1 = 10%), но можно умножить на 100,\n",
        "# чтобы получить проценты: .ptc_change() * 100"
      ],
      "metadata": {
        "colab": {
          "base_uri": "https://localhost:8080/"
        },
        "id": "iLG6JDH-hdeO",
        "outputId": "72e216c3-aa63-4dfc-8441-24e39f3f3658"
      },
      "execution_count": 145,
      "outputs": [
        {
          "output_type": "stream",
          "name": "stdout",
          "text": [
            "0         NaN\n",
            "1    0.100000\n",
            "2    0.090909\n",
            "3   -0.250000\n",
            "4    0.666667\n",
            "dtype: float64\n"
          ]
        }
      ]
    },
    {
      "cell_type": "markdown",
      "source": [
        "### 8.9. Изменение с другим интервалом (периодом)"
      ],
      "metadata": {
        "id": "lxrh-VzxjD9d"
      }
    },
    {
      "cell_type": "code",
      "source": [
        "print(s.pct_change(periods=2))"
      ],
      "metadata": {
        "colab": {
          "base_uri": "https://localhost:8080/"
        },
        "id": "WOp4-xGVie-h",
        "outputId": "6d49b26e-3278-422c-de02-08003f89dca0"
      },
      "execution_count": 146,
      "outputs": [
        {
          "output_type": "stream",
          "name": "stdout",
          "text": [
            "0         NaN\n",
            "1         NaN\n",
            "2    0.200000\n",
            "3   -0.181818\n",
            "4    0.250000\n",
            "dtype: float64\n"
          ]
        }
      ]
    },
    {
      "cell_type": "markdown",
      "source": [
        "### 8.10. Применение .pct_change() к временным рядам"
      ],
      "metadata": {
        "id": "BA2GylwhjTIH"
      }
    },
    {
      "cell_type": "code",
      "source": [
        "# Генерируем данные о цене акции\n",
        "dates = pd.date_range(start=\"2024-01-01\", periods=30, freq=\"D\")\n",
        "prices = pd.Series(np.random.randint(90, 110, size=30), index=dates)\n",
        "\n",
        "# Вычисляем процентный прирост\n",
        "returns = prices.pct_change() * 100\n",
        "\n",
        "# Построим график\n",
        "plt.figure(figsize=(10, 5))\n",
        "plt.plot(prices, label=\"Цена акции\", marker=\"o\")\n",
        "plt.ylabel(\"Цена\")\n",
        "plt.xlabel(\"Дата\")\n",
        "plt.title(\"График цены акции\")\n",
        "\n",
        "plt.figure(figsize=(10, 5))\n",
        "plt.bar(returns.index, returns, color=\"red\", alpha=0.7, label=\"Процентное изменение\")\n",
        "plt.axhline(0, color=\"black\", linestyle=\"--\")\n",
        "plt.ylabel(\"Изменение (%)\")\n",
        "plt.xlabel(\"Дата\")\n",
        "plt.title(\"Процентное изменение цены акции\")\n",
        "plt.legend()\n",
        "plt.show()"
      ],
      "metadata": {
        "colab": {
          "base_uri": "https://localhost:8080/",
          "height": 957
        },
        "id": "dtqUqwt9jK5E",
        "outputId": "423b0649-1b88-4756-aac2-208b4ce1e93a"
      },
      "execution_count": 147,
      "outputs": [
        {
          "output_type": "display_data",
          "data": {
            "text/plain": [
              "<Figure size 1000x500 with 1 Axes>"
            ],
            "image/png": "[encoded data removed]"
          },
          "metadata": {}
        },
        {
          "output_type": "display_data",
          "data": {
            "text/plain": [
              "<Figure size 1000x500 with 1 Axes>"
            ],
            "image/png": "[encoded data removed]"
          },
          "metadata": {}
        }
      ]
    },
    {
      "cell_type": "markdown",
      "source": [
        "# **9. Создание Series на основе данных из внешних файлов**"
      ],
      "metadata": {
        "id": "l753zNzujlBx"
      }
    },
    {
      "cell_type": "markdown",
      "source": [
        "### 9.1. Загрузка данных из CSV-файла"
      ],
      "metadata": {
        "id": "sh5QEksvjqVz"
      }
    },
    {
      "cell_type": "code",
      "source": [
        "# Читаем CSV-файл\n",
        "df = pd.read_csv('data.csv')\n",
        "# Создаем Series на основе столбца \"Цена\"\n",
        "s = df['Цена']\n",
        "print(s)"
      ],
      "metadata": {
        "colab": {
          "base_uri": "https://localhost:8080/"
        },
        "id": "dMq1hqDFjipj",
        "outputId": "1d5a49a9-7a17-4ba9-c4ce-3a5c5e776ec2"
      },
      "execution_count": 150,
      "outputs": [
        {
          "output_type": "stream",
          "name": "stdout",
          "text": [
            "0     95\n",
            "1     97\n",
            "2     96\n",
            "3     98\n",
            "4     99\n",
            "5    100\n",
            "6    102\n",
            "7    101\n",
            "8    103\n",
            "9    105\n",
            "Name: Цена, dtype: int64\n"
          ]
        }
      ]
    },
    {
      "cell_type": "markdown",
      "source": [
        "### 9.2. Загрузка данных из Excel-файла"
      ],
      "metadata": {
        "id": "qPGcQVIGkV9b"
      }
    },
    {
      "cell_type": "code",
      "source": [
        "df = pd.read_excel('data.xlsx', sheet_name='Лист1')\n",
        "# Извлекаем столбец в Series\n",
        "s = df['Объем продаж']\n",
        "print(s)"
      ],
      "metadata": {
        "colab": {
          "base_uri": "https://localhost:8080/"
        },
        "id": "o0newKlSkYo5",
        "outputId": "c0d9423e-06e5-41f9-bf11-62764e00e902"
      },
      "execution_count": 153,
      "outputs": [
        {
          "output_type": "stream",
          "name": "stdout",
          "text": [
            "0    120\n",
            "1    135\n",
            "2    150\n",
            "3    145\n",
            "4    160\n",
            "5    170\n",
            "6    180\n",
            "7    175\n",
            "8    190\n",
            "9    200\n",
            "Name: Объем продаж, dtype: int64\n"
          ]
        }
      ]
    },
    {
      "cell_type": "markdown",
      "source": [
        "### 9.3. Чтение данных из файла с указанием индекса"
      ],
      "metadata": {
        "id": "aVhMonH8ogQQ"
      }
    },
    {
      "cell_type": "code",
      "source": [
        "s = pd.read_csv('data.csv', index_col='Дата')['Цена']\n",
        "print(s)\n",
        "# Для excel аналогично, только pd.read_excel"
      ],
      "metadata": {
        "id": "_QkpKy6lnxqF"
      },
      "execution_count": null,
      "outputs": []
    }
  ]
}